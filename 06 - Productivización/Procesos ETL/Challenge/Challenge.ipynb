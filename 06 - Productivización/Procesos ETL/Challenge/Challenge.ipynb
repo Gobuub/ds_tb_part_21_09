{
 "cells": [
  {
   "cell_type": "markdown",
   "metadata": {},
   "source": [
    "### Fase 1: La Plaza \n",
    "Te encuentras en la plaza de la ciudad, donde los habitantes desarrollan sus diversas profesiones: panaderos, herreros, guardias, escuderos...   \n",
    "En el siguiente enlace https://cutt.ly/peVAXig  encontrarás un archivo que contiene un número por cada persona que se encuentra en la plaza. Suma los números que correspondan a los guardias y podrás pasar a la siguiente fase.\n"
   ]
  },
  {
   "cell_type": "code",
   "execution_count": null,
   "metadata": {},
   "outputs": [],
   "source": []
  },
  {
   "cell_type": "code",
   "execution_count": null,
   "metadata": {},
   "outputs": [],
   "source": []
  },
  {
   "cell_type": "code",
   "execution_count": null,
   "metadata": {},
   "outputs": [],
   "source": []
  },
  {
   "cell_type": "markdown",
   "metadata": {},
   "source": [
    "### Fase 2: La Biblioteca \n",
    "Te encuentras en la biblioteca. La cantidad de libros es inmensa. Por suerte, en la plaza conseguiste lo que necesitas. Encuentra el libro que esté en la posición del número que has guardado y accede a su contenido.   \n",
    "Descarga el archivo books.xml creando una conexión al servidor FTP  \n",
    "`Servidor: f31-preview.runhosting.com  \n",
    "Usuario: 4009006_DATOS   \n",
    "Contraseña: Rafa9999 `"
   ]
  },
  {
   "cell_type": "code",
   "execution_count": null,
   "metadata": {},
   "outputs": [],
   "source": []
  },
  {
   "cell_type": "code",
   "execution_count": null,
   "metadata": {},
   "outputs": [],
   "source": []
  },
  {
   "cell_type": "code",
   "execution_count": null,
   "metadata": {},
   "outputs": [],
   "source": []
  },
  {
   "cell_type": "code",
   "execution_count": null,
   "metadata": {},
   "outputs": [],
   "source": []
  },
  {
   "cell_type": "markdown",
   "metadata": {},
   "source": [
    "### Fase 3: El Libro \n",
    "¡Rápido! El tiempo se agota. Para pasar a la siguiente frase deberás encontrar la palabra de seis letras que más se repite en el libro. ¡Usa tu magia!"
   ]
  },
  {
   "cell_type": "code",
   "execution_count": null,
   "metadata": {},
   "outputs": [],
   "source": []
  },
  {
   "cell_type": "markdown",
   "metadata": {},
   "source": [
    "### Fase 4: La Tienda   \n",
    "Tu siguiente destino es la tienda de comestibles cercana a la Iglesia. Solo te dejarán entrar si conoces la contraseña, la cual conseguiste en la fase anterior. Una vez dentro, averigua cuál es el producto más vendido en la historia de la tienda, y cómpralo. \n",
    "Descarga el archivo del siguiente enlace: https://cutt.ly/peVALXr, descomprímelo utilizando la respuesta de la fase anterior como contraseña. Carga la base de datos en Python, y encuentra el nombre \n",
    "del producto más vendido.\n"
   ]
  },
  {
   "cell_type": "code",
   "execution_count": null,
   "metadata": {},
   "outputs": [],
   "source": []
  },
  {
   "cell_type": "code",
   "execution_count": null,
   "metadata": {},
   "outputs": [],
   "source": []
  },
  {
   "cell_type": "code",
   "execution_count": null,
   "metadata": {},
   "outputs": [],
   "source": []
  },
  {
   "cell_type": "code",
   "execution_count": null,
   "metadata": {},
   "outputs": [],
   "source": []
  },
  {
   "cell_type": "markdown",
   "metadata": {},
   "source": [
    "### FASE 5: El Castillo   \n",
    "¡Ya casi estás! Solo te falta entrar al castillo. Para ello, deberás sobornar al guardia elaborando la receta más calórica con el alimento que conseguiste en la fase anterior."
   ]
  },
  {
   "cell_type": "code",
   "execution_count": null,
   "metadata": {},
   "outputs": [],
   "source": []
  },
  {
   "cell_type": "code",
   "execution_count": null,
   "metadata": {},
   "outputs": [],
   "source": []
  },
  {
   "cell_type": "code",
   "execution_count": null,
   "metadata": {},
   "outputs": [],
   "source": []
  },
  {
   "cell_type": "code",
   "execution_count": null,
   "metadata": {},
   "outputs": [],
   "source": []
  }
 ],
 "metadata": {
  "kernelspec": {
   "display_name": "Python 3 (ipykernel)",
   "language": "python",
   "name": "python3"
  },
  "language_info": {
   "codemirror_mode": {
    "name": "ipython",
    "version": 3
   },
   "file_extension": ".py",
   "mimetype": "text/x-python",
   "name": "python",
   "nbconvert_exporter": "python",
   "pygments_lexer": "ipython3",
   "version": "3.9.7"
  }
 },
 "nbformat": 4,
 "nbformat_minor": 2
}
