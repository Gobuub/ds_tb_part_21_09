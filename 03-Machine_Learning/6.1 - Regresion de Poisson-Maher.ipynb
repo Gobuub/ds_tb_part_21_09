{
 "cells": [
  {
   "cell_type": "markdown",
   "id": "466d51c9",
   "metadata": {},
   "source": [
    "# Recordatorio distribución de Poisson"
   ]
  },
  {
   "cell_type": "markdown",
   "id": "45198b28",
   "metadata": {},
   "source": [
    "$$X \\sim Poisson(\\lambda)$$\n",
    "\n",
    "$$P(X=k)=\\frac{\\lambda ^{k}e^{-\\lambda }}{k!}$$\n",
    "\n",
    "para $k = 0, 1, 2,..$\n",
    "\n",
    "La distribución de Poisson es una distribución de probabilidad discreta que expresa, a partir de una frecuencia de ocurrencia media, la probabilidad de que ocurra un determinado número de eventos durante cierto período de tiempo. Concretamente, se especializa en la probabilidad de ocurrencia de sucesos con probabilidades muy pequeñas, o sucesos raros. "
   ]
  },
  {
   "cell_type": "code",
   "execution_count": 1,
   "id": "71f47a80",
   "metadata": {},
   "outputs": [],
   "source": [
    "from scipy.stats import poisson        # distribucion de poisson\n",
    "\n",
    "import pylab as plt\n",
    "import seaborn as sns"
   ]
  },
  {
   "cell_type": "code",
   "execution_count": 2,
   "id": "10d1e7d6",
   "metadata": {},
   "outputs": [
    {
     "data": {
      "image/png": "[encoded data removed]",
      "text/plain": [
       "<Figure size 432x288 with 1 Axes>"
      ]
     },
     "metadata": {
      "needs_background": "light"
     },
     "output_type": "display_data"
    }
   ],
   "source": [
    "x=[i for i in range(20)]  # nº de sucesos, eje x\n",
    "\n",
    "lamb=2.4  # media de ocurrencia\n",
    "\n",
    "y=[poisson.pmf(x, lamb) for x in x]   # evaluacion de la pmf para cada nº de sucesos, eje y\n",
    "\n",
    "plt.plot(x, y);"
   ]
  },
  {
   "cell_type": "markdown",
   "id": "48661a3c",
   "metadata": {},
   "source": [
    "# Modelo de Dixon-Coles (Maher)\n",
    "\n",
    "La idea detrás del modelo de [Dixon-Coles](http://web.math.ku.dk/~rolf/teaching/thesis/DixonColes.pdf) es que el gol es un evento raro en un partido de fútbol y se podría usar la distribución de Poisson para predecir el resultado de un partido.\n",
    "\n",
    "\n",
    "Para el nº de goles X del equipo local i-esimo y el nº de goles Y del equipo visitante j-esimo se tendria:"
   ]
  },
  {
   "cell_type": "markdown",
   "id": "93731113",
   "metadata": {},
   "source": [
    "$$X \\sim Poisson(\\lambda)$$\n",
    "\n",
    "$$P(X=k)=\\frac{\\lambda^{k}e^{-\\lambda}}{k!}$$"
   ]
  },
  {
   "cell_type": "markdown",
   "id": "b0e588da",
   "metadata": {},
   "source": [
    "$$Y \\sim Poisson(\\mu)$$\n",
    "\n",
    "$$P(Y=k)=\\frac{\\mu^{k}e^{-\\mu}}{k!}$$"
   ]
  },
  {
   "cell_type": "markdown",
   "id": "150be319",
   "metadata": {},
   "source": [
    "donde:\n",
    "\n",
    "$\\lambda = \\gamma\\alpha_{i}\\beta_{j} = \\exp^{(\\gamma+\\alpha_{i}+\\beta_{j})}$\n",
    "\n",
    "$\\mu = \\alpha_{j}\\beta_{i}  = \\exp^{(\\alpha_{j}+\\beta_{i})}$"
   ]
  },
  {
   "cell_type": "markdown",
   "id": "8434a6cf",
   "metadata": {},
   "source": [
    "El modelo introduce varios parámetros para relacionar los equipos y los partidos, un parámetro llamado `gamma` es el parámetro de jugar en casa, los parámetros llamados `alfa` son los parámetros de ataque de cada equipo y los parámetros `beta` son los de defensa de cada equipo."
   ]
  },
  {
   "cell_type": "markdown",
   "id": "47f44cc2",
   "metadata": {},
   "source": [
    "Asi pues, la funcion que define el partido, la funcion principal del modelo, nuestro `predict` es:\n",
    "\n",
    "$$P(X=x, Y=y)=\\frac{\\lambda^{x}e^{-\\lambda}}{x!} · \\frac{\\mu^{y}e^{-\\mu}}{y!}$$"
   ]
  },
  {
   "cell_type": "markdown",
   "id": "e2253963",
   "metadata": {},
   "source": [
    "La funcion de coste o perdida, nuestro `fit`, en este caso se calcula con la [estamacion maximo verosimil](https://es.wikipedia.org/wiki/M%C3%A1xima_verosimilitud). Sería el productorio en todo el espacio de probabilidad de la funcion principal, llamada funcion de verosimilitud.\n",
    "\n",
    "$$L(X=x, Y=y)=\\prod_{i=1}^{n}\\frac{\\lambda^{x}e^{-\\lambda}}{x!} · \\frac{\\mu^{y}e^{-\\mu}}{y!}$$"
   ]
  },
  {
   "cell_type": "markdown",
   "id": "321a82a3",
   "metadata": {},
   "source": [
    "Debido a la regla de la cadena, minimizar esta funcion es muy costoso, por lo que se realiza un truco matematico que consiste en aplicar el logaritmo. Esto es debido a la regla de los logaritmos: $log(a·b)=log(a)+log(b)$. Por tanto, la nueva funcion a ser optimizada (maximizada) es llamada log-verosimilitud.\n",
    "\n",
    "$$l(X=x, Y=y)=\\sum_{i=1}^{n}\\log(\\frac{\\lambda^{x}e^{-\\lambda}}{x!}) + \\log(\\frac{\\mu^{y}e^{-\\mu}}{y!})$$"
   ]
  },
  {
   "cell_type": "markdown",
   "id": "7a1f1237",
   "metadata": {},
   "source": [
    "La idea es: dados los resultados de los partidos de futbol, estimar el parametro de jugar en casa `gamma`, los parametros de ataque para cada equipo `alfa` y los parametros de defensa para cada equipo `beta`."
   ]
  },
  {
   "cell_type": "markdown",
   "id": "97a7c5aa",
   "metadata": {},
   "source": [
    "### Datos\n",
    "\n",
    "Veamos primero la extracción de datos desde [aqui](https://www.football-data.co.uk/)."
   ]
  },
  {
   "cell_type": "code",
   "execution_count": null,
   "id": "8ffed00c",
   "metadata": {},
   "outputs": [],
   "source": []
  },
  {
   "cell_type": "code",
   "execution_count": null,
   "id": "66fe7b84",
   "metadata": {},
   "outputs": [],
   "source": []
  },
  {
   "cell_type": "code",
   "execution_count": null,
   "id": "a8b2f011",
   "metadata": {},
   "outputs": [],
   "source": []
  },
  {
   "cell_type": "code",
   "execution_count": null,
   "id": "8aafc6c2",
   "metadata": {},
   "outputs": [],
   "source": []
  },
  {
   "cell_type": "code",
   "execution_count": null,
   "id": "a2c971a1",
   "metadata": {},
   "outputs": [],
   "source": []
  },
  {
   "cell_type": "code",
   "execution_count": null,
   "id": "458ca3be",
   "metadata": {},
   "outputs": [],
   "source": []
  },
  {
   "cell_type": "code",
   "execution_count": null,
   "id": "0c16ea7b",
   "metadata": {},
   "outputs": [],
   "source": []
  },
  {
   "cell_type": "markdown",
   "id": "c947b209",
   "metadata": {},
   "source": [
    "## Modelo de Poisson\n",
    "\n",
    "**fit**"
   ]
  },
  {
   "cell_type": "code",
   "execution_count": null,
   "id": "43172485",
   "metadata": {},
   "outputs": [],
   "source": []
  },
  {
   "cell_type": "code",
   "execution_count": null,
   "id": "55a5eb8c",
   "metadata": {},
   "outputs": [],
   "source": []
  },
  {
   "cell_type": "code",
   "execution_count": null,
   "id": "110d11fc",
   "metadata": {},
   "outputs": [],
   "source": []
  },
  {
   "cell_type": "code",
   "execution_count": null,
   "id": "49348973",
   "metadata": {},
   "outputs": [],
   "source": []
  },
  {
   "cell_type": "code",
   "execution_count": null,
   "id": "a9994200",
   "metadata": {},
   "outputs": [],
   "source": []
  },
  {
   "cell_type": "markdown",
   "id": "559d0c16",
   "metadata": {},
   "source": [
    "**predict**"
   ]
  },
  {
   "cell_type": "code",
   "execution_count": null,
   "id": "a2b3bde9",
   "metadata": {},
   "outputs": [],
   "source": []
  },
  {
   "cell_type": "code",
   "execution_count": null,
   "id": "b2277495",
   "metadata": {},
   "outputs": [],
   "source": []
  },
  {
   "cell_type": "code",
   "execution_count": null,
   "id": "caffcb5d",
   "metadata": {},
   "outputs": [],
   "source": []
  },
  {
   "cell_type": "code",
   "execution_count": null,
   "id": "5d2343d3",
   "metadata": {},
   "outputs": [],
   "source": []
  },
  {
   "cell_type": "code",
   "execution_count": null,
   "id": "362b19e5",
   "metadata": {},
   "outputs": [],
   "source": []
  },
  {
   "cell_type": "code",
   "execution_count": null,
   "id": "d6b94608",
   "metadata": {},
   "outputs": [],
   "source": []
  },
  {
   "cell_type": "code",
   "execution_count": null,
   "id": "277b11fa",
   "metadata": {},
   "outputs": [],
   "source": []
  },
  {
   "cell_type": "code",
   "execution_count": null,
   "id": "726bbe35",
   "metadata": {},
   "outputs": [],
   "source": []
  },
  {
   "cell_type": "code",
   "execution_count": null,
   "id": "6afa4125",
   "metadata": {},
   "outputs": [],
   "source": []
  },
  {
   "cell_type": "code",
   "execution_count": null,
   "id": "7596f0e0",
   "metadata": {},
   "outputs": [],
   "source": []
  },
  {
   "cell_type": "code",
   "execution_count": null,
   "id": "bc1e62a5",
   "metadata": {},
   "outputs": [],
   "source": []
  },
  {
   "cell_type": "markdown",
   "id": "3464ec07",
   "metadata": {},
   "source": [
    "**Walk-Forward BackTesting**\n",
    "\n",
    "![wfbt](images/wfbt.gif)"
   ]
  }
 ],
 "metadata": {
  "kernelspec": {
   "display_name": "clase",
   "language": "python",
   "name": "clase"
  },
  "language_info": {
   "codemirror_mode": {
    "name": "ipython",
    "version": 3
   },
   "file_extension": ".py",
   "mimetype": "text/x-python",
   "name": "python",
   "nbconvert_exporter": "python",
   "pygments_lexer": "ipython3",
   "version": "3.8.8"
  }
 },
 "nbformat": 4,
 "nbformat_minor": 5
}
