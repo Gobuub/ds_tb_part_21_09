{
 "cells": [
  {
   "cell_type": "markdown",
   "id": "464ab54d",
   "metadata": {},
   "source": [
    "# 8.2 - Distribuciones Discretas\n",
    "\n",
    "\n",
    "Una distribución discreta describe la probabilidad de ocurrencia de cada valor de una variable aleatoria discreta. Una variable aleatoria discreta es una variable aleatoria que tiene valores contables, tales como una lista de enteros no negativos. Con una distribución de probabilidad discreta, cada valor posible de la variable aleatoria discreta puede estar asociado con una probabilidad distinta de cero. Por lo tanto, una distribución de probabilidad discreta suele representarse en forma tabular.\n",
    "\n",
    "### Variables aleatorias\n",
    "\n",
    "+ Variable aleatoria: Es aquella cuyo valor es el resultado de un evento aleatorio. Lo que quiere decir que son los resultados que se presentan al azar en cualquier evento o experimento.\n",
    "\n",
    "+ Variable aleatoria discreta: Es aquella que solo toma ciertos valores, frecuentemente enteros, y que resulta principalmente del conteo realizado.\n",
    "\n",
    "+ Variable aleatoria continua: Es aquella que resulta generalmente de la medición y puede tomar cualquier valor dentro de un intervalo dado.\n"
   ]
  },
  {
   "cell_type": "markdown",
   "id": "192fc85e",
   "metadata": {},
   "source": [
    "### Bernoulli\n",
    "\n",
    "https://es.wikipedia.org/wiki/Distribuci%C3%B3n_Bernoulli\n",
    "\n",
    "$$X \\sim Bernoulli(p)$$\n",
    "\n",
    "Se basa en el experiemento de Bernoulli. Solo tiene dos posibles resultados, con probabilidad $p$ y $1-p$.\n",
    "\n",
    "**Ejemplo :** Moneda sesgada.\n",
    "\n",
    "$\\Omega = \\{0, 1\\}$  Espacio muestral, pensando en cara-cruz.\n",
    "\n",
    "Llamamos $p$ a la probabilidad de éxito, que salga cara por ejemplo."
   ]
  },
  {
   "cell_type": "code",
   "execution_count": 1,
   "id": "4a18ebd9",
   "metadata": {},
   "outputs": [],
   "source": [
    "p=0.8"
   ]
  },
  {
   "cell_type": "markdown",
   "id": "8435f1c1",
   "metadata": {},
   "source": [
    "$P(X=1)=p=0.8$\n",
    "\n",
    "$P(X=0)=1-p=0.2$"
   ]
  },
  {
   "cell_type": "code",
   "execution_count": 2,
   "id": "6eba77a4",
   "metadata": {},
   "outputs": [],
   "source": [
    "from scipy.stats import bernoulli"
   ]
  },
  {
   "cell_type": "code",
   "execution_count": 3,
   "id": "cc7f7c00",
   "metadata": {},
   "outputs": [],
   "source": [
    "b=bernoulli(p)"
   ]
  },
  {
   "cell_type": "code",
   "execution_count": 4,
   "id": "89c15534",
   "metadata": {},
   "outputs": [
    {
     "data": {
      "text/plain": [
       "<scipy.stats._distn_infrastructure.rv_frozen at 0x7fc799890ac0>"
      ]
     },
     "execution_count": 4,
     "metadata": {},
     "output_type": "execute_result"
    }
   ],
   "source": [
    "b"
   ]
  },
  {
   "cell_type": "code",
   "execution_count": 5,
   "id": "2853ec0a",
   "metadata": {},
   "outputs": [
    {
     "data": {
      "text/plain": [
       "array([1])"
      ]
     },
     "execution_count": 5,
     "metadata": {},
     "output_type": "execute_result"
    }
   ],
   "source": [
    "b.rvs(size=1)  # rvs=random variable sample (muestra aleatoria simple, m.a.s. en castellano)"
   ]
  },
  {
   "cell_type": "code",
   "execution_count": 6,
   "id": "7c6ca3c4",
   "metadata": {},
   "outputs": [
    {
     "data": {
      "text/plain": [
       "array([0, 1, 1, 1, 1, 1, 1, 0, 1, 0, 1, 1, 1, 0, 1, 0, 0, 1, 1, 1, 1, 0,\n",
       "       1, 1, 1, 1, 1, 1, 1, 0, 1, 0, 1, 1, 0, 0, 1, 1, 1, 1, 1, 1, 1, 0,\n",
       "       1, 1, 1, 1, 1, 1, 1, 1, 1, 1, 0, 1, 1, 1, 1, 1, 1, 1, 1, 1, 0, 0,\n",
       "       0, 1, 1, 1, 1, 1, 1, 1, 1, 1, 1, 0, 1, 1, 1, 1, 0, 1, 1, 1, 1, 0,\n",
       "       1, 0, 1, 1, 1, 1, 0, 0, 1, 1, 1, 1])"
      ]
     },
     "execution_count": 6,
     "metadata": {},
     "output_type": "execute_result"
    }
   ],
   "source": [
    "muestra=b.rvs(size=100) \n",
    "\n",
    "muestra"
   ]
  },
  {
   "cell_type": "code",
   "execution_count": 7,
   "id": "c5f60a03",
   "metadata": {},
   "outputs": [
    {
     "data": {
      "text/plain": [
       "78"
      ]
     },
     "execution_count": 7,
     "metadata": {},
     "output_type": "execute_result"
    }
   ],
   "source": [
    "sum(muestra)"
   ]
  },
  {
   "cell_type": "code",
   "execution_count": 8,
   "id": "5eaf1a26",
   "metadata": {},
   "outputs": [
    {
     "name": "stderr",
     "output_type": "stream",
     "text": [
      "/Users/iudh/opt/anaconda3/envs/clase/lib/python3.8/site-packages/seaborn/_decorators.py:36: FutureWarning: Pass the following variable as a keyword arg: x. From version 0.12, the only valid positional argument will be `data`, and passing other arguments without an explicit keyword will result in an error or misinterpretation.\n",
      "  warnings.warn(\n"
     ]
    },
    {
     "data": {
      "image/png": "[encoded data removed]",
      "text/plain": [
       "<Figure size 432x288 with 1 Axes>"
      ]
     },
     "metadata": {
      "needs_background": "light"
     },
     "output_type": "display_data"
    }
   ],
   "source": [
    "import seaborn as sns\n",
    "\n",
    "sns.countplot(muestra);"
   ]
  },
  {
   "cell_type": "markdown",
   "id": "6e25fb8f",
   "metadata": {},
   "source": [
    "### Distribución Binomial\n",
    "\n",
    "https://es.wikipedia.org/wiki/Distribuci%C3%B3n_binomial\n",
    "\n",
    "\n",
    "$$X \\sim Binomial(N, p)$$\n",
    "\n",
    "$$P(X=k)={N \\choose k} p^{k}(1-p)^{N-k}$$\n",
    "\n",
    "donde:\n",
    "${N \\choose k} \\equiv \\frac{N!}{k!(N-k)!}$\n",
    "\n",
    "\n",
    "La distribución binomial es una distribución de probabilidad discreta que cuenta el número de éxitos en una secuencia de $N$ ensayos de Bernoulli independientes entre sí con una probabilidad fija $p$ de ocurrencia de éxito entre los ensayos.\n",
    "\n",
    "\n",
    "**Ejemplo :** Lanzamiento de moneda y/o dado.\n",
    "\n",
    "$N$ es el número de lanzamientos.\n",
    "\n",
    "$k$ es el número de exitos, cara x ej\n",
    "\n",
    "$p$ es la probabilidad de éxito, que salga cara por ejemplo.\n",
    "\n",
    "$\\Omega = \\{0, 1, 2, 3, ..., N-1, N\\}$"
   ]
  },
  {
   "cell_type": "code",
   "execution_count": 9,
   "id": "4a3db714",
   "metadata": {},
   "outputs": [],
   "source": [
    "from scipy.stats import binom\n",
    "import pylab as plt"
   ]
  },
  {
   "cell_type": "code",
   "execution_count": 10,
   "id": "ef83b8ed",
   "metadata": {},
   "outputs": [
    {
     "data": {
      "text/plain": [
       "0.11718750000000014"
      ]
     },
     "execution_count": 10,
     "metadata": {},
     "output_type": "execute_result"
    }
   ],
   "source": [
    "# binom.pmf(k, n, p)  # k=nº de exitos, n=nº de repeticiones, p=prob del evento\n",
    "\n",
    "# ¿Cuál es la prob de que salgan tres caras si tiro 10 veces la moneda?\n",
    "binom.pmf(3, 10, 0.5)"
   ]
  },
  {
   "cell_type": "code",
   "execution_count": 11,
   "id": "4371fdc0",
   "metadata": {},
   "outputs": [
    {
     "data": {
      "text/plain": [
       "0.1294102919789899"
      ]
     },
     "execution_count": 11,
     "metadata": {},
     "output_type": "execute_result"
    }
   ],
   "source": [
    "# ¿Cuál es la prob de que salgan 5 doses si tiro 20 veces un dado?\n",
    "\n",
    "binom.pmf(5, 20, 1/6)"
   ]
  },
  {
   "cell_type": "code",
   "execution_count": 12,
   "id": "40bd738a",
   "metadata": {},
   "outputs": [
    {
     "data": {
      "text/plain": [
       "0.9999990463256827"
      ]
     },
     "execution_count": 12,
     "metadata": {},
     "output_type": "execute_result"
    },
    {
     "data": {
      "image/png": "[encoded data removed]",
      "text/plain": [
       "<Figure size 432x288 with 1 Axes>"
      ]
     },
     "metadata": {
      "needs_background": "light"
     },
     "output_type": "display_data"
    }
   ],
   "source": [
    "x=[i for i in range(20)]                # nº de exitos\n",
    "y=[binom.pmf(x, 20, 0.5) for x in x]    # su prob\n",
    "\n",
    "plt.plot(x, y);\n",
    "sum(y)"
   ]
  },
  {
   "cell_type": "code",
   "execution_count": 13,
   "id": "d1566e86",
   "metadata": {},
   "outputs": [
    {
     "data": {
      "text/plain": [
       "[0, 1, 2, 3, 4, 5, 6, 7, 8, 9, 10, 11, 12, 13, 14, 15, 16, 17, 18, 19]"
      ]
     },
     "execution_count": 13,
     "metadata": {},
     "output_type": "execute_result"
    }
   ],
   "source": [
    "x"
   ]
  },
  {
   "cell_type": "code",
   "execution_count": 14,
   "id": "2ef5dee7",
   "metadata": {},
   "outputs": [
    {
     "data": {
      "text/plain": [
       "array([4.76837158e-07, 1.00135803e-05, 1.00135803e-04, 6.34193420e-04,\n",
       "       2.85387039e-03, 9.70315933e-03, 2.58750916e-02, 5.54466248e-02,\n",
       "       9.70315933e-02, 1.40156746e-01, 1.68188095e-01, 1.68188095e-01,\n",
       "       1.40156746e-01, 9.70315933e-02, 5.54466248e-02, 2.58750916e-02,\n",
       "       9.70315933e-03, 2.85387039e-03, 6.34193420e-04, 1.00135803e-04])"
      ]
     },
     "execution_count": 14,
     "metadata": {},
     "output_type": "execute_result"
    }
   ],
   "source": [
    "binom.pmf(x, 21, 0.5)  # probabilidad"
   ]
  },
  {
   "cell_type": "code",
   "execution_count": 15,
   "id": "2bedd85f",
   "metadata": {},
   "outputs": [
    {
     "data": {
      "text/plain": [
       "array([9.53674316e-07, 2.00271606e-05, 2.01225281e-04, 1.28841400e-03,\n",
       "       5.90896606e-03, 2.06947327e-02, 5.76591492e-02, 1.31587982e-01,\n",
       "       2.51722336e-01, 4.11901474e-01, 5.88098526e-01, 7.48277664e-01,\n",
       "       8.68412018e-01, 9.42340851e-01, 9.79305267e-01, 9.94091034e-01,\n",
       "       9.98711586e-01, 9.99798775e-01, 9.99979973e-01, 9.99999046e-01])"
      ]
     },
     "execution_count": 15,
     "metadata": {},
     "output_type": "execute_result"
    }
   ],
   "source": [
    "binom.cdf(x, 20, 0.5)  # probabilidad acumulada"
   ]
  },
  {
   "cell_type": "code",
   "execution_count": 16,
   "id": "752a28d1",
   "metadata": {},
   "outputs": [
    {
     "data": {
      "image/png": "[encoded data removed]",
      "text/plain": [
       "<Figure size 432x288 with 1 Axes>"
      ]
     },
     "metadata": {
      "needs_background": "light"
     },
     "output_type": "display_data"
    }
   ],
   "source": [
    "x=[i for i in range(20)]                # nº de exitos\n",
    "y=[binom.cdf(x, 20, 0.5) for x in x]    # su prob acumulada\n",
    "\n",
    "plt.plot(x, y);"
   ]
  },
  {
   "cell_type": "code",
   "execution_count": 17,
   "id": "6dca2b6d",
   "metadata": {},
   "outputs": [
    {
     "data": {
      "text/plain": [
       "0.9987115859985352"
      ]
     },
     "execution_count": 17,
     "metadata": {},
     "output_type": "execute_result"
    }
   ],
   "source": [
    "prob_moneda=binom.cdf(x, 20, 0.5)\n",
    "\n",
    "1-prob_moneda[3]  # prob de 3 exitos o mas"
   ]
  },
  {
   "cell_type": "code",
   "execution_count": 18,
   "id": "a38e1ccf",
   "metadata": {},
   "outputs": [
    {
     "data": {
      "text/plain": [
       "0.0015106201171874998"
      ]
     },
     "execution_count": 18,
     "metadata": {},
     "output_type": "execute_result"
    }
   ],
   "source": [
    "sum(prob_moneda[0:4])  # prob de 3 exitos o menos"
   ]
  },
  {
   "cell_type": "markdown",
   "id": "f507e8da",
   "metadata": {},
   "source": [
    "**Momentos centrales**\n",
    "\n",
    "https://es.wikipedia.org/wiki/Momento_central"
   ]
  },
  {
   "cell_type": "code",
   "execution_count": null,
   "id": "c134987e",
   "metadata": {},
   "outputs": [],
   "source": []
  },
  {
   "cell_type": "markdown",
   "id": "f941bc8c",
   "metadata": {},
   "source": [
    "**Aclaración:**\n",
    "\n",
    " * `.rvs`: Devuelve una muestra aleatoria simple\n",
    " * `.pmf`: (probability mass function) Funcion de masa de probabilidad, para distribuciones discretas\n",
    " * `.pdf`: (probability density function) Funcion de densidad de probabilidad, para distribuciones continuas\n",
    " * `.cdf`: (cumulative mass function) Funcion acumulada de probabilidad, para distribuciones discretas y continuas\n",
    " * `.ppf`: (percentile probability function) Inversa de la funcion acumulada, para distribuciones continuas\n"
   ]
  },
  {
   "cell_type": "markdown",
   "id": "25f2d891",
   "metadata": {},
   "source": [
    "### Distribución Binomial Negativa\n",
    "\n",
    "https://es.wikipedia.org/wiki/Distribuci%C3%B3n_binomial_negativa\n",
    "\n",
    "\n",
    "$$X \\sim BN(r, p)$$\n",
    "\n",
    "$$P(X=k)={N \\choose k} p^{k}(1-p)^{N-k}$$\n",
    "\n",
    "donde:\n",
    "${N \\choose k} \\equiv \\frac{N!}{k!(N-k)!}$\n",
    "\n",
    "\n",
    "La distribución binomial es una distribución de probabilidad discreta que cuenta el número de éxitos en una secuencia de $N$ ensayos de Bernoulli independientes entre sí con una probabilidad fija $p$ de ocurrencia de éxito entre los ensayos.\n",
    "\n",
    "\n",
    "**Ejemplo :** Lanzamiento de moneda y/o dado.\n",
    "\n",
    "$N$ es el número de lanzamientos.\n",
    "\n",
    "$p$ es la probabilidad de éxito, que salga cara por ejemplo.\n",
    "\n",
    "$\\Omega = \\{0, 1, 2, 3, ..., N-1, N\\}$"
   ]
  },
  {
   "cell_type": "code",
   "execution_count": null,
   "id": "4062da7f",
   "metadata": {},
   "outputs": [],
   "source": []
  },
  {
   "cell_type": "code",
   "execution_count": null,
   "id": "d7847e51",
   "metadata": {},
   "outputs": [],
   "source": []
  },
  {
   "cell_type": "code",
   "execution_count": null,
   "id": "7866d20e",
   "metadata": {},
   "outputs": [],
   "source": []
  },
  {
   "cell_type": "code",
   "execution_count": null,
   "id": "971d6749",
   "metadata": {},
   "outputs": [],
   "source": []
  },
  {
   "cell_type": "code",
   "execution_count": null,
   "id": "cefefc96",
   "metadata": {},
   "outputs": [],
   "source": []
  },
  {
   "cell_type": "code",
   "execution_count": null,
   "id": "7d252eaf",
   "metadata": {},
   "outputs": [],
   "source": []
  },
  {
   "cell_type": "code",
   "execution_count": null,
   "id": "9f6bd99d",
   "metadata": {},
   "outputs": [],
   "source": []
  },
  {
   "cell_type": "markdown",
   "id": "10fce477",
   "metadata": {},
   "source": [
    "### Distribución Geométrica\n",
    "\n",
    "https://es.wikipedia.org/wiki/Distribuci%C3%B3n_geom%C3%A9trica\n",
    "\n",
    "\n",
    "$$X \\sim Geom(p)$$\n",
    "\n",
    "$$P(X=k)= p · (1-p)^{k}$$\n",
    "\n",
    "para $k = 0, 1, 2, 3, 4...$\n",
    "\n",
    "\n",
    "La distribución geométrica es un modelo adecuado para aquellos procesos en los que se repiten pruebas hasta la consecución del éxito a resultado deseado y tiene interesantes aplicaciones en los muestreos realizados de esta manera. "
   ]
  },
  {
   "cell_type": "code",
   "execution_count": null,
   "id": "2e16b50f",
   "metadata": {},
   "outputs": [],
   "source": []
  },
  {
   "cell_type": "code",
   "execution_count": null,
   "id": "dbdad20c",
   "metadata": {},
   "outputs": [],
   "source": []
  },
  {
   "cell_type": "code",
   "execution_count": null,
   "id": "7f35aacc",
   "metadata": {},
   "outputs": [],
   "source": []
  },
  {
   "cell_type": "code",
   "execution_count": null,
   "id": "9bf2152a",
   "metadata": {},
   "outputs": [],
   "source": []
  },
  {
   "cell_type": "markdown",
   "id": "af7cd1ab",
   "metadata": {},
   "source": [
    "### Distribución Uniforme Discreta\n",
    "\n",
    "https://es.wikipedia.org/wiki/Distribuci%C3%B3n_uniforme_discreta\n",
    "\n",
    "$$X \\sim Uniforme(x_{1}, x_{2},..., x_{n})$$\n",
    "\n",
    "$$P(X=k)= \\frac{1}{n}$$\n",
    "\n",
    "para $k = k_{1}, k_{2},..., k_{n}$\n",
    "\n",
    "La distribución uniforme discreta es una distribución de probabilidad discreta que surge en espacios de probabilidad equiprobables, es decir, en situaciones donde de $n$ resultados diferentes, todos tienen la misma probabilidad de ocurrir. "
   ]
  },
  {
   "cell_type": "code",
   "execution_count": null,
   "id": "cebf6613",
   "metadata": {},
   "outputs": [],
   "source": []
  },
  {
   "cell_type": "code",
   "execution_count": null,
   "id": "41baffd3",
   "metadata": {},
   "outputs": [],
   "source": []
  },
  {
   "cell_type": "code",
   "execution_count": null,
   "id": "f3b90df7",
   "metadata": {},
   "outputs": [],
   "source": []
  },
  {
   "cell_type": "markdown",
   "id": "c8bcc4c3",
   "metadata": {},
   "source": [
    "### Distribución de Poisson (ley de sucesos raros)\n",
    "\n",
    "https://es.wikipedia.org/wiki/Distribuci%C3%B3n_de_Poisson\n",
    "\n",
    "\n",
    "$$X \\sim Poisson(\\lambda)$$\n",
    "\n",
    "$$P(X=k)=\\frac{\\lambda ^{k}e^{-\\lambda }}{k!}$$\n",
    "\n",
    "para $k = 0, 1, 2,..$\n",
    "\n",
    "La distribución de Poisson es una distribución de probabilidad discreta que expresa, a partir de una frecuencia de ocurrencia media, la probabilidad de que ocurra un determinado número de eventos durante cierto período de tiempo. Concretamente, se especializa en la probabilidad de ocurrencia de sucesos con probabilidades muy pequeñas, o sucesos raros. "
   ]
  },
  {
   "cell_type": "code",
   "execution_count": null,
   "id": "dc0f3060",
   "metadata": {},
   "outputs": [],
   "source": []
  },
  {
   "cell_type": "code",
   "execution_count": null,
   "id": "0e8f4156",
   "metadata": {},
   "outputs": [],
   "source": []
  },
  {
   "cell_type": "code",
   "execution_count": null,
   "id": "e8d5ae1e",
   "metadata": {},
   "outputs": [],
   "source": []
  },
  {
   "cell_type": "code",
   "execution_count": null,
   "id": "93b986df",
   "metadata": {},
   "outputs": [],
   "source": []
  },
  {
   "cell_type": "code",
   "execution_count": null,
   "id": "2c179f80",
   "metadata": {},
   "outputs": [],
   "source": []
  },
  {
   "cell_type": "markdown",
   "id": "ce3b00f8",
   "metadata": {},
   "source": [
    "**ejemplo futbol**\n",
    "\n",
    "Supongamos que los goles de futbol son eventos raros dentro del partido y que siguen una distribución de Poisson. Partiendo de eso, ¿podríamos predecir el resultado de un partido?. Veamoslo."
   ]
  },
  {
   "cell_type": "code",
   "execution_count": null,
   "id": "837b35b7",
   "metadata": {},
   "outputs": [],
   "source": []
  },
  {
   "cell_type": "code",
   "execution_count": null,
   "id": "9b169c59",
   "metadata": {},
   "outputs": [],
   "source": []
  },
  {
   "cell_type": "code",
   "execution_count": null,
   "id": "7b95aabc",
   "metadata": {},
   "outputs": [],
   "source": []
  },
  {
   "cell_type": "code",
   "execution_count": null,
   "id": "c972958c",
   "metadata": {},
   "outputs": [],
   "source": []
  },
  {
   "cell_type": "markdown",
   "id": "9584ca96",
   "metadata": {},
   "source": [
    "para ver la distribucion del partido se necesita realizar el producto externo de los dos vectores para crear una matriz"
   ]
  },
  {
   "cell_type": "code",
   "execution_count": null,
   "id": "a60c9c0f",
   "metadata": {},
   "outputs": [],
   "source": []
  },
  {
   "cell_type": "code",
   "execution_count": null,
   "id": "e8c19cb5",
   "metadata": {},
   "outputs": [],
   "source": []
  },
  {
   "cell_type": "code",
   "execution_count": null,
   "id": "dab1551f",
   "metadata": {},
   "outputs": [],
   "source": []
  },
  {
   "cell_type": "code",
   "execution_count": null,
   "id": "0772fcc4",
   "metadata": {},
   "outputs": [],
   "source": []
  },
  {
   "cell_type": "code",
   "execution_count": null,
   "id": "0304b8f2",
   "metadata": {},
   "outputs": [],
   "source": []
  },
  {
   "cell_type": "code",
   "execution_count": null,
   "id": "9c499fca",
   "metadata": {},
   "outputs": [],
   "source": []
  },
  {
   "cell_type": "markdown",
   "id": "309c708c",
   "metadata": {},
   "source": [
    "![discretas](images/discretas.jpg)"
   ]
  }
 ],
 "metadata": {
  "finalized": {
   "timestamp": 1624202568327,
   "trusted": false
  },
  "kernelspec": {
   "display_name": "clase",
   "language": "python",
   "name": "clase"
  },
  "language_info": {
   "codemirror_mode": {
    "name": "ipython",
    "version": 3
   },
   "file_extension": ".py",
   "mimetype": "text/x-python",
   "name": "python",
   "nbconvert_exporter": "python",
   "pygments_lexer": "ipython3",
   "version": "3.8.8"
  },
  "varInspector": {
   "cols": {
    "lenName": 16,
    "lenType": 16,
    "lenVar": 40
   },
   "kernels_config": {
    "python": {
     "delete_cmd_postfix": "",
     "delete_cmd_prefix": "del ",
     "library": "var_list.py",
     "varRefreshCmd": "print(var_dic_list())"
    },
    "r": {
     "delete_cmd_postfix": ") ",
     "delete_cmd_prefix": "rm(",
     "library": "var_list.r",
     "varRefreshCmd": "cat(var_dic_list()) "
    }
   },
   "types_to_exclude": [
    "module",
    "function",
    "builtin_function_or_method",
    "instance",
    "_Feature"
   ],
   "window_display": false
  }
 },
 "nbformat": 4,
 "nbformat_minor": 5
}
